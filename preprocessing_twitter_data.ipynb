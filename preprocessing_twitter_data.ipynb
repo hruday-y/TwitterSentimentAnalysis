{
 "cells": [
  {
   "cell_type": "code",
   "execution_count": 1,
   "metadata": {
    "collapsed": true
   },
   "outputs": [],
   "source": [
    "import codecs\n",
    "import gzip\n",
    "import glob\n",
    "import json\n",
    "import bz2file\n",
    "import numpy as np\n",
    "import pandas as pd\n",
    "import re\n",
    "import time\n",
    "from nltk.stem.snowball import SnowballStemmer"
   ]
  },
  {
   "cell_type": "code",
   "execution_count": 2,
   "metadata": {
    "collapsed": false
   },
   "outputs": [],
   "source": [
    "list_of_files = glob.glob('/Users/Kiki/Downloads/2017/11/25/18/*.bz2')           # create the list of file"
   ]
  },
  {
   "cell_type": "code",
   "execution_count": 3,
   "metadata": {
    "collapsed": false
   },
   "outputs": [
    {
     "name": "stdout",
     "output_type": "stream",
     "text": [
      "['#ador', '#fond', '#like', '#attract', '#care', '#tender', '#compass', '#sentiment', '# desir', '#passion', '#infatu', '#long', '# amus', '#bliss', '#gaieti', '#glee', '#jolli', '#jovial', '#joy', '#delight', '#enjoy', '#glad', '#happi', '#jubil', '#elat', '#satisfact', '#ecstasi', '#euphoria', '# enthusiasm', '#zeal', '#excit', '#thrill', '#exhilar', '#pleasur', '#triumph', '#eager', '#hope', '#enthral', '#raptur', '#relief', '#amaz', '#astonish', '#aggrav', '#agit', '#annoy', '#grouchi', '#grumpi', '#crosspatch', '#frustrat', '#anger', '#outrag', '#furi', '#wrath', '#hostil', '#feroc', '#bitter', '#hatr', '#scorn', '#spite', '#veng', '#dislik', '#resent', '#revuls', '#contempt', '#loath', '#jealousi', '#torment', '#agoni', '#anguish', '#hurt', '#depress', '#despair', '#gloom', '#glum', '#unhappi', '#grief', '#sorrow', '#woe', '#miseri', '#melancholi', '#dismay', '#displeasur', '#guilt', '#regret', '#remors', '#alien', '#defeat', '#deject', '#embarrass', '#homesick', '#humili', '#insecur', '#insult', '#isol', '#loneli', '#reject', '#piti', '#mononoawar', '#sympathi', '#alarm', '#shock', '#fear', '#fright', '#horror', '#terror', '#panic', '#hysteria', '#mortif', '#anxieti', '#suspens', '#uneasi', '#apprehens', '#worri', '#distress', '#dread']\n"
     ]
    }
   ],
   "source": [
    "coarse_htgs = ['Adoration', 'Fondness', 'Liking', 'Attraction', 'Caring', 'Tenderness', 'Compassion', 'Sentimentality',' Desire', 'Passion', 'Infatuation', 'Longing',' Amusement', 'Bliss', 'Gaiety', 'Glee', 'Jolliness', 'Joviality', 'Joy', 'Delight', 'Enjoyment', 'Gladness', 'Happiness', 'Jubilation', 'Elation', 'Satisfaction', 'Ecstasy', 'Euphoria',' Enthusiasm', 'Zeal', 'Excitement', 'Thrill', 'Exhilaration', 'Pleasure', 'Triumph', 'Eagerness', 'Hope', 'Enthrallment', 'Rapture', 'Relief', 'Amazement', 'Astonishment', 'Aggravation', 'Agitation', 'Annoyance', 'Grouchy', 'Grumpy', 'Crosspatch', 'Frustration', 'Anger', 'Outrage', 'Fury', 'Wrath', 'Hostility', 'Ferocity', 'Bitterness', 'Hatred', 'Scorn', 'Spite', 'Vengefulness', 'Dislike', 'Resentment', 'Revulsion', 'Contempt', 'Loathing', 'Jealousy', 'Torment', 'Agony', 'Anguish', 'Hurt','Depression', 'Despair', 'Gloom', 'Glumness', 'Unhappiness', 'Grief', 'Sorrow', 'Woe', 'Misery', 'Melancholy','Dismay', 'Displeasure','Guilt', 'Regret', 'Remorse','Alienation', 'Defeatism', 'Dejection', 'Embarrassment', 'Homesickness', 'Humiliation', 'Insecurity', 'Insult', 'Isolation', 'Loneliness', 'Rejection','Pity', 'Mononoaware', 'Sympathy','Alarm', 'Shock', 'Fear', 'Fright', 'Horror', 'Terror', 'Panic', 'Hysteria', 'Mortification','Anxiety', 'Suspense', 'Uneasiness', 'Apprehension', 'Worry', 'Distress', 'Dread']\n",
    "stemmer = SnowballStemmer(\"english\")\n",
    "hashtags = []\n",
    "for i in range(len(coarse_htgs)):\n",
    "    hashtags.append('#'+str(stemmer.stem(coarse_htgs[i].lower())))\n",
    "print hashtags\n",
    "hash_dic = {}\n",
    "for i, h in enumerate(hashtags):\n",
    "    hash_dic[h] = i"
   ]
  },
  {
   "cell_type": "code",
   "execution_count": 42,
   "metadata": {
    "collapsed": false
   },
   "outputs": [],
   "source": [
    "df = pd.DataFrame(columns= ['text'])"
   ]
  },
  {
   "cell_type": "code",
   "execution_count": 43,
   "metadata": {
    "collapsed": true
   },
   "outputs": [],
   "source": [
    "def contain_emoji(text):\n",
    "    #facial_emoji\n",
    "    for num in range(56832, 56912):\n",
    "        if '\\ud83d\\u'+str(hex(num)[2:]) in text:\n",
    "            return True\n",
    "    return False"
   ]
  },
  {
   "cell_type": "code",
   "execution_count": 44,
   "metadata": {
    "collapsed": true
   },
   "outputs": [],
   "source": [
    "def contain_hashtag(text):\n",
    "    for htg in hashtags:\n",
    "        if htg in text:\n",
    "            return True\n",
    "    return False"
   ]
  },
  {
   "cell_type": "code",
   "execution_count": 45,
   "metadata": {
    "collapsed": false
   },
   "outputs": [
    {
     "name": "stdout",
     "output_type": "stream",
     "text": [
      "watching #livepd and the cops pull up on a guy,he\\u2019s blasting bodak yellow \\ud83d\\ude02\\ud83d\\ude02\\ud83d\\ude02 knocked out in the car\n",
      "finished processing 1/40 files\n",
      "took 16.0 seconds\n",
      "finished processing 2/40 files\n",
      "took 32.0 seconds\n",
      "finished processing 3/40 files\n",
      "took 49.0 seconds\n",
      "finished processing 4/40 files\n",
      "took 65.0 seconds\n",
      "finished processing 5/40 files\n",
      "took 82.0 seconds\n",
      "finished processing 6/40 files\n",
      "took 97.0 seconds\n",
      "finished processing 7/40 files\n",
      "took 112.0 seconds\n",
      "#gloving #silence\\ud83d\\ude4a #singer #dancer #flexin #follow #share #like4like https:\\/\\/t.co\\/skh9cbvfto\n",
      "finished processing 8/40 files\n",
      "took 129.0 seconds\n",
      "finished processing 9/40 files\n",
      "took 145.0 seconds\n",
      "finished processing 10/40 files\n",
      "took 160.0 seconds\n",
      "finished processing 11/40 files\n",
      "took 174.0 seconds\n",
      "finished processing 12/40 files\n",
      "took 188.0 seconds\n",
      "#livepd only 30 minutes to go, can't wait!!!!  \\ud83d\\ude03\\ud83d\\ude03\\ud83d\\ude03\n",
      "finished processing 13/40 files\n",
      "took 206.0 seconds\n",
      "gracia tattoo tho\\ud83d\\udc4c\\ud83d\\ude09\\u270c\\ufe0f\\u2728 1day to go \\ud83c\\udf82\\ud83c\\udf6b #excited https:\\/\\/t.co\\/isquvrhkst\n",
      "finished processing 14/40 files\n",
      "took 222.0 seconds\n",
      "finished processing 15/40 files\n",
      "took 238.0 seconds\n",
      "rt @_flowerinspring: 171123 jbj \\uc77c\\ubcf8 \\ub3c4\\ucfc4 \\ud32c\\ubbf8\\ud305\\n#jbj #cometrue #\\ud32c\\ubbf8\\ud305 #\\uae40\\uc6a9\\uad6d #\\uc6a9\\uad6d #\\u30e8\\u30f3\\u30b0\\u30af #longguo\\n\\uc6a9\\uad6c\\uac00\\u315c\\u315c\\uc65c \\uc774\\ub807\\uac8c \\uadc0\\uc5ec\\uc6b4\\uac70\\uc57c\\ud83d\\ude22 https:\\/\\/t.co\\/uildnqott7\n",
      "171123 jbj \\uc77c\\ubcf8 \\ub3c4\\ucfc4 \\ud32c\\ubbf8\\ud305\\n#jbj #cometrue #\\ud32c\\ubbf8\\ud305 #\\uae40\\uc6a9\\uad6d #\\uc6a9\\uad6d #\\u30e8\\u30f3\\u30b0\\u30af #longguo\\n\\uc6a9\\uad6c\\uac00\\u315c\\u315c\\uc65c \\uc774\\ub807\\uac8c \\uadc0\\uc5ec\\uc6b4\\uac70\\uc57c\\ud83d\\ude22 https:\\/\\/t.co\\/uildnqott7\n",
      "finished processing 16/40 files\n",
      "took 255.0 seconds\n",
      "finished processing 17/40 files\n",
      "took 272.0 seconds\n",
      "finished processing 18/40 files\n",
      "took 288.0 seconds\n",
      "finished processing 19/40 files\n",
      "took 304.0 seconds\n",
      "rt @moni_satzu: 171124 \\ubba4\\uc9c1\\ubc45\\ud06c \\ud83d\\ude0d\\n\\n#\\ud2b8\\uc640\\uc774\\uc2a4 #twice #\\ucbd4\\uc704 #tzuyu #\\u5468\\u5b50\\u745c #\\uc0ac\\ub098 #sana #\\u51d1\\u5d0e\\u7eb1\\u590f #likey @jypetwice https:\\/\\/t.co\\/l67jdzxahz\n",
      "171124 \\ubba4\\uc9c1\\ubc45\\ud06c \\ud83d\\ude0d\\n\\n#\\ud2b8\\uc640\\uc774\\uc2a4 #twice #\\ucbd4\\uc704 #tzuyu #\\u5468\\u5b50\\u745c #\\uc0ac\\ub098 #sana #\\u51d1\\u5d0e\\u7eb1\\u590f #likey @jypetwice https:\\/\\/t.co\\/l67jdzxahz\n",
      "finished processing 20/40 files\n",
      "took 318.0 seconds\n",
      "finished processing 21/40 files\n",
      "took 333.0 seconds\n",
      "finished processing 22/40 files\n",
      "took 348.0 seconds\n",
      "finished processing 23/40 files\n",
      "took 366.0 seconds\n",
      "finished processing 24/40 files\n",
      "took 383.0 seconds\n",
      "finished processing 25/40 files\n",
      "took 398.0 seconds\n",
      "finished processing 26/40 files\n",
      "took 415.0 seconds\n",
      "finished processing 27/40 files\n",
      "took 435.0 seconds\n",
      "finished processing 28/40 files\n",
      "took 453.0 seconds\n",
      "finished processing 29/40 files\n",
      "took 466.0 seconds\n",
      "finished processing 30/40 files\n",
      "took 482.0 seconds\n",
      "finished processing 31/40 files\n",
      "took 497.0 seconds\n",
      "finished processing 32/40 files\n",
      "took 512.0 seconds\n",
      "finished processing 33/40 files\n",
      "took 531.0 seconds\n",
      "rt @joymarguerite: 171125 \\ud589\\ubcf5 \\uc5bc\\ub77c\\uc774\\uc5b8\\uc2a4 \\ud30c\\ud2f0\\n\\uc5b4\\uca5c \\uc774\\ub807\\uac8c \\uc644\\ubcbd\\ud574\\ud83d\\ude2d\\ud83d\\udc9a\\n#\\ub808\\ub4dc\\ubca8\\ubcb3 #\\uc870\\uc774 #joy https:\\/\\/t.co\\/w1pvty8kjf\n",
      "171125 \\ud589\\ubcf5 \\uc5bc\\ub77c\\uc774\\uc5b8\\uc2a4 \\ud30c\\ud2f0\\n\\uc5b4\\uca5c \\uc774\\ub807\\uac8c \\uc644\\ubcbd\\ud574\\ud83d\\ude2d\\ud83d\\udc9a\\n#\\ub808\\ub4dc\\ubca8\\ubcb3 #\\uc870\\uc774 #joy https:\\/\\/t.co\\/w1pvty8kjf\n",
      "finished processing 34/40 files\n",
      "took 547.0 seconds\n",
      "finished processing 35/40 files\n",
      "took 562.0 seconds\n",
      "finished processing 36/40 files\n",
      "took 579.0 seconds\n",
      "finished processing 37/40 files\n",
      "took 598.0 seconds\n",
      "finished processing 38/40 files\n",
      "took 616.0 seconds\n",
      "finished processing 39/40 files\n",
      "took 631.0 seconds\n",
      "finished processing 40/40 files\n",
      "took 649.0 seconds\n"
     ]
    }
   ],
   "source": [
    "loc_index = 0\n",
    "num_files = 0\n",
    "start_time = time.time()\n",
    "for file_name in list_of_files:\n",
    "    \n",
    "    stream = bz2file.open(file_name).read()\n",
    "    #stream = bz2.decompress(f.read())\n",
    "    index = 0\n",
    "    while True:\n",
    "        try:\n",
    "            start_index = stream[index:].index(\"\\\"text\\\":\")+8+index\n",
    "            end_index = stream[start_index:].index('\\\"')+start_index\n",
    "            \n",
    "            text =  stream[start_index:end_index].lower()\n",
    "            index  = end_index + 1\n",
    "            if '#' not in text or ('\\ud83c' not in text and '\\ud83d' not in text and '\\ud83e' not in text) :\n",
    "                continue\n",
    "            #text = text.replace('\\\\n', ' ')\n",
    "            #text = text.replace(',', ' , ')\n",
    "            #text = text.replace('.', ' . ')\n",
    "            \n",
    "            words = text.split()\n",
    "            e_exist, h_exist = False, False\n",
    "            \n",
    "            if not contain_emoji(text) or not contain_hashtag(text):\n",
    "                continue\n",
    "            \n",
    "            print text\n",
    "            df.loc[loc_index] = [text]\n",
    "            loc_index += 1\n",
    "            \n",
    "            \n",
    "        except:\n",
    "            num_files += 1\n",
    "            print 'finished processing '+str(num_files)+'/'+str(len(list_of_files))+' files'\n",
    "            print 'took ' + str(round(time.time() - start_time)) +' seconds'\n",
    "            break"
   ]
  },
  {
   "cell_type": "code",
   "execution_count": 47,
   "metadata": {
    "collapsed": false
   },
   "outputs": [
    {
     "data": {
      "text/html": [
       "<div>\n",
       "<table border=\"1\" class=\"dataframe\">\n",
       "  <thead>\n",
       "    <tr style=\"text-align: right;\">\n",
       "      <th></th>\n",
       "      <th>text</th>\n",
       "    </tr>\n",
       "  </thead>\n",
       "  <tbody>\n",
       "    <tr>\n",
       "      <th>0</th>\n",
       "      <td>watching #livepd and the cops pull up on a guy...</td>\n",
       "    </tr>\n",
       "    <tr>\n",
       "      <th>1</th>\n",
       "      <td>#gloving #silence\\ud83d\\ude4a #singer #dancer ...</td>\n",
       "    </tr>\n",
       "    <tr>\n",
       "      <th>2</th>\n",
       "      <td>#livepd only 30 minutes to go, can't wait!!!! ...</td>\n",
       "    </tr>\n",
       "    <tr>\n",
       "      <th>3</th>\n",
       "      <td>gracia tattoo tho\\ud83d\\udc4c\\ud83d\\ude09\\u270...</td>\n",
       "    </tr>\n",
       "    <tr>\n",
       "      <th>4</th>\n",
       "      <td>rt @_flowerinspring: 171123 jbj \\uc77c\\ubcf8 \\...</td>\n",
       "    </tr>\n",
       "    <tr>\n",
       "      <th>5</th>\n",
       "      <td>171123 jbj \\uc77c\\ubcf8 \\ub3c4\\ucfc4 \\ud32c\\ub...</td>\n",
       "    </tr>\n",
       "    <tr>\n",
       "      <th>6</th>\n",
       "      <td>rt @moni_satzu: 171124 \\ubba4\\uc9c1\\ubc45\\ud06...</td>\n",
       "    </tr>\n",
       "    <tr>\n",
       "      <th>7</th>\n",
       "      <td>171124 \\ubba4\\uc9c1\\ubc45\\ud06c \\ud83d\\ude0d\\n...</td>\n",
       "    </tr>\n",
       "    <tr>\n",
       "      <th>8</th>\n",
       "      <td>rt @joymarguerite: 171125 \\ud589\\ubcf5 \\uc5bc\\...</td>\n",
       "    </tr>\n",
       "    <tr>\n",
       "      <th>9</th>\n",
       "      <td>171125 \\ud589\\ubcf5 \\uc5bc\\ub77c\\uc774\\uc5b8\\u...</td>\n",
       "    </tr>\n",
       "  </tbody>\n",
       "</table>\n",
       "</div>"
      ],
      "text/plain": [
       "                                                text\n",
       "0  watching #livepd and the cops pull up on a guy...\n",
       "1  #gloving #silence\\ud83d\\ude4a #singer #dancer ...\n",
       "2  #livepd only 30 minutes to go, can't wait!!!! ...\n",
       "3  gracia tattoo tho\\ud83d\\udc4c\\ud83d\\ude09\\u270...\n",
       "4  rt @_flowerinspring: 171123 jbj \\uc77c\\ubcf8 \\...\n",
       "5  171123 jbj \\uc77c\\ubcf8 \\ub3c4\\ucfc4 \\ud32c\\ub...\n",
       "6  rt @moni_satzu: 171124 \\ubba4\\uc9c1\\ubc45\\ud06...\n",
       "7  171124 \\ubba4\\uc9c1\\ubc45\\ud06c \\ud83d\\ude0d\\n...\n",
       "8  rt @joymarguerite: 171125 \\ud589\\ubcf5 \\uc5bc\\...\n",
       "9  171125 \\ud589\\ubcf5 \\uc5bc\\ub77c\\uc774\\uc5b8\\u..."
      ]
     },
     "execution_count": 47,
     "metadata": {},
     "output_type": "execute_result"
    }
   ],
   "source": [
    "df"
   ]
  },
  {
   "cell_type": "code",
   "execution_count": 22,
   "metadata": {
    "collapsed": false
   },
   "outputs": [
    {
     "data": {
      "text/plain": [
       "'uDE00'"
      ]
     },
     "execution_count": 22,
     "metadata": {},
     "output_type": "execute_result"
    }
   ],
   "source": []
  },
  {
   "cell_type": "code",
   "execution_count": 24,
   "metadata": {
    "collapsed": false
   },
   "outputs": [
    {
     "data": {
      "text/plain": [
       "56832"
      ]
     },
     "execution_count": 24,
     "metadata": {},
     "output_type": "execute_result"
    }
   ],
   "source": [
    "int('DE00', 16)"
   ]
  },
  {
   "cell_type": "code",
   "execution_count": 6,
   "metadata": {
    "collapsed": false
   },
   "outputs": [
    {
     "data": {
      "text/plain": [
       "[':)',\n",
       " '=)',\n",
       " ':(',\n",
       " ';P',\n",
       " ';)',\n",
       " ':-D',\n",
       " ':D',\n",
       " 'D:',\n",
       " ':-)',\n",
       " ';(',\n",
       " ':/',\n",
       " '8)',\n",
       " '(:',\n",
       " ':-/',\n",
       " ':P',\n",
       " ':|',\n",
       " 'xD',\n",
       " 'XP',\n",
       " \":')\",\n",
       " '=D',\n",
       " 'XD',\n",
       " ':]',\n",
       " ';-)',\n",
       " 'D8',\n",
       " ':p',\n",
       " 'DX',\n",
       " \":'(\",\n",
       " ':-P',\n",
       " ':@',\n",
       " '=]',\n",
       " ':-(',\n",
       " '>:(',\n",
       " ';D',\n",
       " ':\\\\',\n",
       " '']"
      ]
     },
     "execution_count": 6,
     "metadata": {},
     "output_type": "execute_result"
    }
   ],
   "source": [
    "f = open('/Users/Kiki/Downloads/emoticon.csv')\n",
    "t = f.read().replace('\\n','')\n",
    "t = t.replace('\\r', '')\n",
    "t = t.replace(' ','')\n",
    "data = t.split(',')\n",
    "data"
   ]
  },
  {
   "cell_type": "code",
   "execution_count": null,
   "metadata": {
    "collapsed": true
   },
   "outputs": [],
   "source": []
  }
 ],
 "metadata": {
  "anaconda-cloud": {},
  "kernelspec": {
   "display_name": "Python [conda root]",
   "language": "python",
   "name": "conda-root-py"
  },
  "language_info": {
   "codemirror_mode": {
    "name": "ipython",
    "version": 2
   },
   "file_extension": ".py",
   "mimetype": "text/x-python",
   "name": "python",
   "nbconvert_exporter": "python",
   "pygments_lexer": "ipython2",
   "version": "2.7.13"
  }
 },
 "nbformat": 4,
 "nbformat_minor": 1
}
